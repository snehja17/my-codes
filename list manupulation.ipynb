{
 "cells": [
  {
   "cell_type": "code",
   "execution_count": 3,
   "id": "db1b4602",
   "metadata": {},
   "outputs": [
    {
     "name": "stdout",
     "output_type": "stream",
     "text": [
      "this element krsna is not a list\n",
      "this element radha is not a list\n",
      "this element 3 is not a list\n",
      "this element [45, 's', 4] is a list\n"
     ]
    }
   ],
   "source": [
    "l=[\"krsna\", 'radha', 3 , [45,\"s\",4]]\n",
    "\n",
    "for i in l:\n",
    "    if type(i)==list :\n",
    "        print(\"this element\" , i , \"is a list\")\n",
    "    else:\n",
    "        print(\"this element\" , i ,  \"is not a list\")"
   ]
  },
  {
   "cell_type": "code",
   "execution_count": 5,
   "id": "75cf5aa9",
   "metadata": {},
   "outputs": [
    {
     "name": "stdout",
     "output_type": "stream",
     "text": [
      "[3, 4, 5, 6, 7]\n"
     ]
    }
   ],
   "source": [
    "l=[2,3,4,5,6,7]\n",
    "l.pop(0)\n",
    "print(l)"
   ]
  },
  {
   "cell_type": "code",
   "execution_count": 7,
   "id": "dd1c6f36",
   "metadata": {},
   "outputs": [
    {
     "name": "stdout",
     "output_type": "stream",
     "text": [
      "[8, 7, 6, 5, 4, 3, 2, 1]\n"
     ]
    }
   ],
   "source": [
    "l=[1,2,3,4,5,6,7,8]\n",
    "l.reverse()\n",
    "print(l)"
   ]
  },
  {
   "cell_type": "code",
   "execution_count": 14,
   "id": "02ec2519",
   "metadata": {},
   "outputs": [
    {
     "name": "stdout",
     "output_type": "stream",
     "text": [
      "[9, 57, 87, 111, 10000]\n"
     ]
    }
   ],
   "source": [
    "l=[111,57,87,9,10000]\n",
    "l.sort()\n",
    "print(l)"
   ]
  },
  {
   "cell_type": "code",
   "execution_count": 19,
   "id": "80e6e7f0",
   "metadata": {},
   "outputs": [
    {
     "name": "stdout",
     "output_type": "stream",
     "text": [
      "[2, [(5+2j), 'radha'], [(8+2j), 'caitnya'], 3, 4, 5, 6, 7]\n"
     ]
    }
   ],
   "source": [
    "l=[2,3,4,5,6,7]\n",
    "\n",
    "p=[5+2j , \"radha\"]\n",
    "q= [8+2j , \"caitnya\"]\n",
    "\n",
    "l.insert(1,p)\n",
    "l.insert(2,q)\n",
    "print(l)"
   ]
  },
  {
   "cell_type": "code",
   "execution_count": 22,
   "id": "981d2683",
   "metadata": {},
   "outputs": [],
   "source": [
    "l= [2, [(5+2j), 'radha'], [(8+2j), 'caitnya'], 3, 4, 5, 6, 7]\n",
    "\n"
   ]
  },
  {
   "cell_type": "code",
   "execution_count": 24,
   "id": "f6187c8c",
   "metadata": {},
   "outputs": [
    {
     "name": "stdout",
     "output_type": "stream",
     "text": [
      "0\n",
      "1\n",
      "2\n",
      "3\n",
      "4\n"
     ]
    }
   ],
   "source": [
    "l=[]\n",
    "\n",
    "for i in range(5):\n",
    "    print(i)"
   ]
  },
  {
   "cell_type": "code",
   "execution_count": null,
   "id": "dad17288",
   "metadata": {},
   "outputs": [],
   "source": []
  }
 ],
 "metadata": {
  "kernelspec": {
   "display_name": "Python 3 (ipykernel)",
   "language": "python",
   "name": "python3"
  },
  "language_info": {
   "codemirror_mode": {
    "name": "ipython",
    "version": 3
   },
   "file_extension": ".py",
   "mimetype": "text/x-python",
   "name": "python",
   "nbconvert_exporter": "python",
   "pygments_lexer": "ipython3",
   "version": "3.10.9"
  }
 },
 "nbformat": 4,
 "nbformat_minor": 5
}
