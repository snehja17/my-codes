{
 "cells": [
  {
   "cell_type": "code",
   "execution_count": 1,
   "id": "deb721c6",
   "metadata": {},
   "outputs": [
    {
     "name": "stdout",
     "output_type": "stream",
     "text": [
      "i\n",
      " \n",
      "l\n",
      "o\n",
      "v\n",
      "e\n",
      " \n",
      "m\n",
      "a\n",
      "y\n",
      "a\n",
      "p\n",
      "u\n",
      "r\n"
     ]
    }
   ],
   "source": [
    "s=\"i love mayapur\"\n",
    "\n",
    "for i in s :\n",
    "    print(i)"
   ]
  },
  {
   "cell_type": "code",
   "execution_count": 5,
   "id": "7e57f282",
   "metadata": {},
   "outputs": [
    {
     "name": "stdout",
     "output_type": "stream",
     "text": [
      "i\n",
      " \n",
      "l\n",
      "o\n",
      "v\n",
      "i got it\n",
      "e\n",
      " \n",
      "m\n",
      "a\n",
      "y\n",
      "a\n",
      "p\n",
      "u\n",
      "r\n"
     ]
    }
   ],
   "source": [
    "s=\"i love mayapur\"\n",
    "\n",
    "for i in s :\n",
    "    if i=='e':\n",
    "        print(\"i got it\")\n",
    "    print(i)"
   ]
  },
  {
   "cell_type": "code",
   "execution_count": 6,
   "id": "919c346a",
   "metadata": {},
   "outputs": [
    {
     "name": "stdout",
     "output_type": "stream",
     "text": [
      "i\n",
      " \n"
     ]
    }
   ],
   "source": [
    "s=\"i love mayapur\"\n",
    "\n",
    "for i in s :\n",
    "    if i=='l':\n",
    "        break\n",
    "        print(\"i got it\")\n",
    "    print(i)"
   ]
  },
  {
   "cell_type": "code",
   "execution_count": 15,
   "id": "b466cfac",
   "metadata": {},
   "outputs": [
    {
     "name": "stdout",
     "output_type": "stream",
     "text": [
      "i\n",
      " \n",
      "l\n",
      "v\n",
      "e\n",
      " \n",
      "v\n",
      "r\n",
      "i\n",
      "n\n",
      "d\n",
      "r\n",
      "a\n",
      "v\n",
      "a\n",
      "n\n",
      "jaya\n"
     ]
    }
   ],
   "source": [
    "s=\"i love vrindravan\"\n",
    "\n",
    "for i in s:\n",
    "    if i==\"o\":\n",
    "        continue\n",
    "    print(i)\n",
    "else:\n",
    "    if i==\"n\":\n",
    "        print(\"jaya\")"
   ]
  },
  {
   "cell_type": "code",
   "execution_count": null,
   "id": "4026d763",
   "metadata": {},
   "outputs": [],
   "source": []
  }
 ],
 "metadata": {
  "kernelspec": {
   "display_name": "Python 3 (ipykernel)",
   "language": "python",
   "name": "python3"
  },
  "language_info": {
   "codemirror_mode": {
    "name": "ipython",
    "version": 3
   },
   "file_extension": ".py",
   "mimetype": "text/x-python",
   "name": "python",
   "nbconvert_exporter": "python",
   "pygments_lexer": "ipython3",
   "version": "3.10.9"
  }
 },
 "nbformat": 4,
 "nbformat_minor": 5
}
