{
 "cells": [
  {
   "cell_type": "code",
   "execution_count": 6,
   "id": "f45c0d47",
   "metadata": {},
   "outputs": [
    {
     "data": {
      "text/plain": [
       "'i love mayapurthats the birthplace of sri caitnya'"
      ]
     },
     "execution_count": 6,
     "metadata": {},
     "output_type": "execute_result"
    }
   ],
   "source": [
    "t=\"i love mayapur\"\n",
    "s=\"thats the birthplace of sri caitnya\"\n",
    "t + s"
   ]
  },
  {
   "cell_type": "code",
   "execution_count": 12,
   "id": "72de0a66",
   "metadata": {},
   "outputs": [
    {
     "data": {
      "text/plain": [
       "['', '']"
      ]
     },
     "execution_count": 12,
     "metadata": {},
     "output_type": "execute_result"
    }
   ],
   "source": [
    "s.split(s)\n"
   ]
  },
  {
   "cell_type": "code",
   "execution_count": 9,
   "id": "0d4eb3fe",
   "metadata": {},
   "outputs": [
    {
     "data": {
      "text/plain": [
       "'ithats the birthplace of sri caitnya thats the birthplace of sri caitnyalthats the birthplace of sri caitnyaothats the birthplace of sri caitnyavthats the birthplace of sri caitnyaethats the birthplace of sri caitnya thats the birthplace of sri caitnyamthats the birthplace of sri caitnyaathats the birthplace of sri caitnyaythats the birthplace of sri caitnyaathats the birthplace of sri caitnyapthats the birthplace of sri caitnyauthats the birthplace of sri caitnyarthats the birthplace of sri caitnyatthats the birthplace of sri caitnyahthats the birthplace of sri caitnyaathats the birthplace of sri caitnyatthats the birthplace of sri caitnyasthats the birthplace of sri caitnya thats the birthplace of sri caitnyatthats the birthplace of sri caitnyahthats the birthplace of sri caitnyaethats the birthplace of sri caitnya thats the birthplace of sri caitnyabthats the birthplace of sri caitnyaithats the birthplace of sri caitnyarthats the birthplace of sri caitnyatthats the birthplace of sri caitnyahthats the birthplace of sri caitnyapthats the birthplace of sri caitnyalthats the birthplace of sri caitnyaathats the birthplace of sri caitnyacthats the birthplace of sri caitnyaethats the birthplace of sri caitnya thats the birthplace of sri caitnyaothats the birthplace of sri caitnyafthats the birthplace of sri caitnya thats the birthplace of sri caitnyasthats the birthplace of sri caitnyarthats the birthplace of sri caitnyaithats the birthplace of sri caitnya thats the birthplace of sri caitnyacthats the birthplace of sri caitnyaathats the birthplace of sri caitnyaithats the birthplace of sri caitnyatthats the birthplace of sri caitnyanthats the birthplace of sri caitnyaythats the birthplace of sri caitnyaa'"
      ]
     },
     "execution_count": 9,
     "metadata": {},
     "output_type": "execute_result"
    }
   ],
   "source": [
    "s.join(t+s)"
   ]
  },
  {
   "cell_type": "code",
   "execution_count": 13,
   "id": "a6ad185f",
   "metadata": {},
   "outputs": [
    {
     "data": {
      "text/plain": [
       "['thats the birthplace of sri caitnya']"
      ]
     },
     "execution_count": 13,
     "metadata": {},
     "output_type": "execute_result"
    }
   ],
   "source": [
    "s.split(t)"
   ]
  },
  {
   "cell_type": "code",
   "execution_count": null,
   "id": "1d1aaf73",
   "metadata": {},
   "outputs": [],
   "source": []
  }
 ],
 "metadata": {
  "kernelspec": {
   "display_name": "Python 3 (ipykernel)",
   "language": "python",
   "name": "python3"
  },
  "language_info": {
   "codemirror_mode": {
    "name": "ipython",
    "version": 3
   },
   "file_extension": ".py",
   "mimetype": "text/x-python",
   "name": "python",
   "nbconvert_exporter": "python",
   "pygments_lexer": "ipython3",
   "version": "3.10.9"
  }
 },
 "nbformat": 4,
 "nbformat_minor": 5
}
