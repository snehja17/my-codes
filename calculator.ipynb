{
 "cells": [
  {
   "cell_type": "code",
   "execution_count": 18,
   "id": "9400cb18",
   "metadata": {},
   "outputs": [
    {
     "name": "stdout",
     "output_type": "stream",
     "text": [
      "write a number10\n",
      "write second number9\n",
      "choose operator:-\n",
      "1\n"
     ]
    }
   ],
   "source": [
    "#Calculator\n",
    "\n",
    "\n",
    "a= int(input(\"write a number\"))\n",
    "b=int(input(\"write second number\"))\n",
    "\n",
    "\n",
    "oper=input(\"choose operator:\")\n",
    "\n",
    "if (oper=='+'):\n",
    "    print(a+b)\n",
    "elif (oper=='-'):\n",
    "    print(a-b)\n",
    "elif (oper=='*'):\n",
    "    print(a*b)\n",
    "elif (oper=='/'):\n",
    "    print(a/b)\n",
    "else:\n",
    "    print(\"write valid operator\")\n",
    "\n"
   ]
  },
  {
   "cell_type": "code",
   "execution_count": null,
   "id": "ba12e9f7",
   "metadata": {},
   "outputs": [],
   "source": []
  },
  {
   "cell_type": "code",
   "execution_count": null,
   "id": "ae2f9303",
   "metadata": {},
   "outputs": [],
   "source": []
  }
 ],
 "metadata": {
  "kernelspec": {
   "display_name": "Python 3 (ipykernel)",
   "language": "python",
   "name": "python3"
  },
  "language_info": {
   "codemirror_mode": {
    "name": "ipython",
    "version": 3
   },
   "file_extension": ".py",
   "mimetype": "text/x-python",
   "name": "python",
   "nbconvert_exporter": "python",
   "pygments_lexer": "ipython3",
   "version": "3.10.9"
  }
 },
 "nbformat": 4,
 "nbformat_minor": 5
}
