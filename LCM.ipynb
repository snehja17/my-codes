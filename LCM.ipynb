{
 "cells": [
  {
   "cell_type": "code",
   "execution_count": 3,
   "id": "c5aa2831",
   "metadata": {},
   "outputs": [
    {
     "name": "stdout",
     "output_type": "stream",
     "text": [
      "write first nmber12\n",
      "write second number18\n",
      "the lcm is 36\n"
     ]
    }
   ],
   "source": [
    "\n",
    "# how to find LCM\n",
    "\n",
    "a=int(input(\"write first nmber\"))\n",
    "b=int(input(\"write second number\"))\n",
    "for m in range (1,a*b+1):\n",
    "    if m%a==0 and m%b==0:\n",
    "        print(\"the lcm is\",m )\n",
    "        break "
   ]
  },
  {
   "cell_type": "markdown",
   "id": "97e380f3",
   "metadata": {},
   "source": [
    "\n",
    " \n",
    " \n",
    " \n",
    " "
   ]
  },
  {
   "cell_type": "code",
   "execution_count": null,
   "id": "1d948280",
   "metadata": {},
   "outputs": [],
   "source": []
  }
 ],
 "metadata": {
  "kernelspec": {
   "display_name": "Python 3 (ipykernel)",
   "language": "python",
   "name": "python3"
  },
  "language_info": {
   "codemirror_mode": {
    "name": "ipython",
    "version": 3
   },
   "file_extension": ".py",
   "mimetype": "text/x-python",
   "name": "python",
   "nbconvert_exporter": "python",
   "pygments_lexer": "ipython3",
   "version": "3.10.9"
  }
 },
 "nbformat": 4,
 "nbformat_minor": 5
}
