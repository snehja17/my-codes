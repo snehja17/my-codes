{
 "cells": [
  {
   "cell_type": "code",
   "execution_count": 1,
   "id": "0ca2084b",
   "metadata": {},
   "outputs": [
    {
     "name": "stdout",
     "output_type": "stream",
     "text": [
      "this is my var a20\n",
      "this is my var b35\n",
      "this is my var c45\n"
     ]
    }
   ],
   "source": [
    "a=int(input (\"this is my var a\"))\n",
    "b=int(input (\"this is my var b\"))\n",
    "c=int(input(\"this is my var c\"))\n"
   ]
  },
  {
   "cell_type": "code",
   "execution_count": 8,
   "id": "5957567c",
   "metadata": {},
   "outputs": [],
   "source": [
    "o=a+b/c\n",
    "o1= o + 3+2j"
   ]
  },
  {
   "cell_type": "code",
   "execution_count": 9,
   "id": "0f0d5c3c",
   "metadata": {},
   "outputs": [
    {
     "data": {
      "text/plain": [
       "(23.77777777777778+2j)"
      ]
     },
     "execution_count": 9,
     "metadata": {},
     "output_type": "execute_result"
    }
   ],
   "source": [
    "o1"
   ]
  },
  {
   "cell_type": "code",
   "execution_count": 10,
   "id": "68522900",
   "metadata": {},
   "outputs": [
    {
     "data": {
      "text/plain": [
       "complex"
      ]
     },
     "execution_count": 10,
     "metadata": {},
     "output_type": "execute_result"
    }
   ],
   "source": [
    "type(o1)"
   ]
  },
  {
   "cell_type": "code",
   "execution_count": 14,
   "id": "7a42907b",
   "metadata": {},
   "outputs": [
    {
     "name": "stdout",
     "output_type": "stream",
     "text": [
      "type A NUMBER12\n",
      "jaya\n"
     ]
    }
   ],
   "source": [
    "a=int(input(\"type A NUMBER\"))\n",
    "\n",
    "if a<34:\n",
    "    print (\"jaya\")\n",
    "    "
   ]
  },
  {
   "cell_type": "code",
   "execution_count": 16,
   "id": "8b7ff5b0",
   "metadata": {},
   "outputs": [
    {
     "name": "stdout",
     "output_type": "stream",
     "text": [
      "enter your salary 3000\n",
      "u can serve\n"
     ]
    }
   ],
   "source": [
    "s=salary=int(input(\"enter your salary\"))\n",
    "\n",
    "if s<10000:\n",
    "    print(\"u can serve\")\n",
    "elif s<5000:            # heres a mistake remember code always starts executing line by line. so convert all to greater than\n",
    "    print(\"donate a tile\")\n",
    "elif s<500:\n",
    "    print (\"feed the needy\")\n",
    "else:\n",
    "    print(\"help\")\n",
    "\n"
   ]
  },
  {
   "cell_type": "code",
   "execution_count": null,
   "id": "44ef25a1",
   "metadata": {},
   "outputs": [],
   "source": [
    "'''hierchies---we can add any number of hierchies'''\n",
    "\n"
   ]
  },
  {
   "cell_type": "code",
   "execution_count": null,
   "id": "bb363d7e",
   "metadata": {},
   "outputs": [],
   "source": []
  },
  {
   "cell_type": "code",
   "execution_count": null,
   "id": "c4d33619",
   "metadata": {},
   "outputs": [],
   "source": []
  },
  {
   "cell_type": "code",
   "execution_count": null,
   "id": "c7443af4",
   "metadata": {},
   "outputs": [],
   "source": []
  },
  {
   "cell_type": "code",
   "execution_count": null,
   "id": "e5ced8b7",
   "metadata": {},
   "outputs": [],
   "source": []
  }
 ],
 "metadata": {
  "kernelspec": {
   "display_name": "Python 3 (ipykernel)",
   "language": "python",
   "name": "python3"
  },
  "language_info": {
   "codemirror_mode": {
    "name": "ipython",
    "version": 3
   },
   "file_extension": ".py",
   "mimetype": "text/x-python",
   "name": "python",
   "nbconvert_exporter": "python",
   "pygments_lexer": "ipython3",
   "version": "3.10.9"
  }
 },
 "nbformat": 4,
 "nbformat_minor": 5
}
