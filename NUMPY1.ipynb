{
 "cells": [
  {
   "cell_type": "code",
   "execution_count": 1,
   "id": "89993cb5",
   "metadata": {},
   "outputs": [],
   "source": [
    "import numpy as np"
   ]
  },
  {
   "cell_type": "code",
   "execution_count": 2,
   "id": "129d799d",
   "metadata": {},
   "outputs": [],
   "source": [
    "import array"
   ]
  },
  {
   "cell_type": "code",
   "execution_count": 4,
   "id": "bc2aa7ed",
   "metadata": {},
   "outputs": [],
   "source": [
    "#creating array\n"
   ]
  },
  {
   "cell_type": "code",
   "execution_count": 10,
   "id": "eb873655",
   "metadata": {},
   "outputs": [
    {
     "data": {
      "text/plain": [
       "array(['1', '2', '3', '4', '5', 'madhusudan', '6+2i'], dtype='<U11')"
      ]
     },
     "execution_count": 10,
     "metadata": {},
     "output_type": "execute_result"
    }
   ],
   "source": [
    "np.array([1,2,3,4,5,'madhusudan','6+2i'])             # note the brackets"
   ]
  },
  {
   "cell_type": "code",
   "execution_count": 9,
   "id": "15ec1c2b",
   "metadata": {},
   "outputs": [
    {
     "data": {
      "text/plain": [
       "numpy.ndarray"
      ]
     },
     "execution_count": 9,
     "metadata": {},
     "output_type": "execute_result"
    }
   ],
   "source": [
    "type(np.array([1,2,3,4,5])   )"
   ]
  },
  {
   "cell_type": "code",
   "execution_count": 12,
   "id": "a90922b0",
   "metadata": {},
   "outputs": [
    {
     "data": {
      "text/plain": [
       "array([[3, 4],\n",
       "       [6, 7]])"
      ]
     },
     "execution_count": 12,
     "metadata": {},
     "output_type": "execute_result"
    }
   ],
   "source": [
    "np.array([[3,4],[6,7]])"
   ]
  },
  {
   "cell_type": "code",
   "execution_count": 13,
   "id": "caf1c370",
   "metadata": {},
   "outputs": [
    {
     "data": {
      "text/plain": [
       "array([[3, 4],\n",
       "       [6, 7],\n",
       "       [6, 8]])"
      ]
     },
     "execution_count": 13,
     "metadata": {},
     "output_type": "execute_result"
    }
   ],
   "source": [
    "np.array([[3,4],[6,7],[6,8]])"
   ]
  },
  {
   "cell_type": "code",
   "execution_count": 14,
   "id": "6e44a882",
   "metadata": {},
   "outputs": [
    {
     "name": "stderr",
     "output_type": "stream",
     "text": [
      "C:\\Users\\Snehja Srivastava\\AppData\\Local\\Temp\\ipykernel_23756\\208804455.py:1: VisibleDeprecationWarning: Creating an ndarray from ragged nested sequences (which is a list-or-tuple of lists-or-tuples-or ndarrays with different lengths or shapes) is deprecated. If you meant to do this, you must specify 'dtype=object' when creating the ndarray.\n",
      "  np.array([[3,4],[6,7],[6,7,8]])\n"
     ]
    },
    {
     "data": {
      "text/plain": [
       "array([list([3, 4]), list([6, 7]), list([6, 7, 8])], dtype=object)"
      ]
     },
     "execution_count": 14,
     "metadata": {},
     "output_type": "execute_result"
    }
   ],
   "source": [
    "np.array([[3,4],[6,7],[6,7,8]])          # we get a warning that uniform data not there so it accepts as list"
   ]
  },
  {
   "cell_type": "code",
   "execution_count": null,
   "id": "e3470272",
   "metadata": {},
   "outputs": [],
   "source": []
  },
  {
   "cell_type": "code",
   "execution_count": 15,
   "id": "6cc64337",
   "metadata": {},
   "outputs": [],
   "source": [
    "# [--------one D array\n",
    "#   [[-------two D array\n",
    "#      [[[-------3D array............ and so on.................."
   ]
  },
  {
   "cell_type": "code",
   "execution_count": 16,
   "id": "c260ca64",
   "metadata": {},
   "outputs": [
    {
     "data": {
      "text/plain": [
       "array([[[1, 2, 3]]])"
      ]
     },
     "execution_count": 16,
     "metadata": {},
     "output_type": "execute_result"
    }
   ],
   "source": [
    "#ndmin gives dimensions\n",
    "np.array([1,2,3],ndmin=3)"
   ]
  },
  {
   "cell_type": "code",
   "execution_count": 17,
   "id": "6c6571bc",
   "metadata": {},
   "outputs": [],
   "source": [
    "# TYPE CONVERSION\n"
   ]
  },
  {
   "cell_type": "code",
   "execution_count": 20,
   "id": "6a35f43b",
   "metadata": {},
   "outputs": [
    {
     "data": {
      "text/plain": [
       "array([1.+0.j, 2.+0.j, 3.+0.j])"
      ]
     },
     "execution_count": 20,
     "metadata": {},
     "output_type": "execute_result"
    }
   ],
   "source": [
    "np.array([1,2,3],dtype=complex)"
   ]
  },
  {
   "cell_type": "code",
   "execution_count": 21,
   "id": "f4011f9c",
   "metadata": {},
   "outputs": [],
   "source": [
    "# HOW TO PLOT 1 D DATA"
   ]
  },
  {
   "cell_type": "code",
   "execution_count": 22,
   "id": "e85075c0",
   "metadata": {},
   "outputs": [
    {
     "data": {
      "text/plain": [
       "array([[1, 3],\n",
       "       [4, 7]])"
      ]
     },
     "execution_count": 22,
     "metadata": {},
     "output_type": "execute_result"
    }
   ],
   "source": [
    "np.array([(1,3),(4,7)])"
   ]
  },
  {
   "cell_type": "code",
   "execution_count": null,
   "id": "ff0a5ab0",
   "metadata": {},
   "outputs": [],
   "source": []
  }
 ],
 "metadata": {
  "kernelspec": {
   "display_name": "Python 3 (ipykernel)",
   "language": "python",
   "name": "python3"
  },
  "language_info": {
   "codemirror_mode": {
    "name": "ipython",
    "version": 3
   },
   "file_extension": ".py",
   "mimetype": "text/x-python",
   "name": "python",
   "nbconvert_exporter": "python",
   "pygments_lexer": "ipython3",
   "version": "3.10.9"
  }
 },
 "nbformat": 4,
 "nbformat_minor": 5
}
