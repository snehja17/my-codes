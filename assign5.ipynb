{
 "cells": [
  {
   "cell_type": "code",
   "execution_count": 5,
   "id": "ae93bebe",
   "metadata": {},
   "outputs": [
    {
     "data": {
      "text/plain": [
       "[3, 4, 5, 6, 5, 6, 7, 8]"
      ]
     },
     "execution_count": 5,
     "metadata": {},
     "output_type": "execute_result"
    }
   ],
   "source": [
    "\n",
    "\n",
    "l=[3 , 4, 5, 6]\n",
    "s=[5,6,7,8]\n",
    "l+s\n"
   ]
  },
  {
   "cell_type": "code",
   "execution_count": 15,
   "id": "8889d4cf",
   "metadata": {},
   "outputs": [
    {
     "name": "stdout",
     "output_type": "stream",
     "text": [
      "required result is 18\n"
     ]
    }
   ],
   "source": [
    "# write a python program to find sum of elements in a list\n",
    "\n",
    "l=[3 , 4, 5, 6]\n",
    "\n",
    "sum=0\n",
    "\n",
    "for i in l:\n",
    "    sum=sum+i\n",
    "print('required result is' , sum)"
   ]
  },
  {
   "cell_type": "code",
   "execution_count": null,
   "id": "6501960b",
   "metadata": {},
   "outputs": [],
   "source": []
  },
  {
   "cell_type": "code",
   "execution_count": 16,
   "id": "bf4db2dc",
   "metadata": {},
   "outputs": [
    {
     "name": "stdout",
     "output_type": "stream",
     "text": [
      "req multiplication is 181440\n"
     ]
    }
   ],
   "source": [
    "# write a python program to multiply elements in a list\n",
    "\n",
    "\n",
    "l=[3,4,5,6,7,8,9]\n",
    "\n",
    "multiply= 1\n",
    "\n",
    "for i in l:\n",
    "    multiply=multiply*i\n",
    "print('req multiplication is' , multiply)\n"
   ]
  },
  {
   "cell_type": "code",
   "execution_count": 19,
   "id": "9ba55b0d",
   "metadata": {},
   "outputs": [
    {
     "data": {
      "text/plain": [
       "3"
      ]
     },
     "execution_count": 19,
     "metadata": {},
     "output_type": "execute_result"
    }
   ],
   "source": [
    "\n",
    "min([3,4,5,6,7,8,9])\n"
   ]
  },
  {
   "cell_type": "code",
   "execution_count": 21,
   "id": "7cf563b5",
   "metadata": {},
   "outputs": [
    {
     "data": {
      "text/plain": [
       "656"
      ]
     },
     "execution_count": 21,
     "metadata": {},
     "output_type": "execute_result"
    }
   ],
   "source": [
    "max([34,45,45,656,8])"
   ]
  },
  {
   "cell_type": "code",
   "execution_count": 25,
   "id": "4b0fc7e6",
   "metadata": {},
   "outputs": [
    {
     "name": "stdout",
     "output_type": "stream",
     "text": [
      "the second largest number is 867\n"
     ]
    }
   ],
   "source": [
    "l=[3,4,46,56,867,9,3,5423]\n",
    "l.sort()\n",
    "\n",
    "element=l[-2]\n",
    "print(\"the second largest number is\" , element)"
   ]
  },
  {
   "cell_type": "code",
   "execution_count": 26,
   "id": "58a5a011",
   "metadata": {},
   "outputs": [
    {
     "name": "stdout",
     "output_type": "stream",
     "text": [
      "this is odd\n",
      "this is even\n",
      "this is even\n",
      "this is even\n",
      "this is odd\n",
      "this is odd\n",
      "this is odd\n",
      "this is odd\n"
     ]
    }
   ],
   "source": [
    "l=[3,4,46,56,867,9,3,5423]\n",
    "\n",
    "\n",
    "for i in l:\n",
    "    if i%2== 0:\n",
    "        print(\"this is even\")\n",
    "    else:\n",
    "        print(\"this is odd\")"
   ]
  },
  {
   "cell_type": "code",
   "execution_count": 39,
   "id": "07beb046",
   "metadata": {},
   "outputs": [
    {
     "name": "stdout",
     "output_type": "stream",
     "text": [
      "[34, 34, 64, 57, 58, 5, 5]\n",
      "[34, 34, 64, 57, 58, 5, 5]\n"
     ]
    }
   ],
   "source": [
    "l=[34,34,64,57,58,5,5]\n",
    "print(l)\n",
    "new_list= list(l)\n",
    "print(new_list)"
   ]
  },
  {
   "cell_type": "code",
   "execution_count": 40,
   "id": "8cc72256",
   "metadata": {},
   "outputs": [
    {
     "data": {
      "text/plain": [
       "4"
      ]
     },
     "execution_count": 40,
     "metadata": {},
     "output_type": "execute_result"
    }
   ],
   "source": [
    "l=[2,2,2,2,3,4,3,54,6,54]\n",
    "l.count(2)"
   ]
  },
  {
   "cell_type": "code",
   "execution_count": 41,
   "id": "1d527874",
   "metadata": {},
   "outputs": [
    {
     "data": {
      "text/plain": [
       "2"
      ]
     },
     "execution_count": 41,
     "metadata": {},
     "output_type": "execute_result"
    }
   ],
   "source": [
    "l.count(3)"
   ]
  },
  {
   "cell_type": "code",
   "execution_count": null,
   "id": "c484c896",
   "metadata": {},
   "outputs": [],
   "source": []
  }
 ],
 "metadata": {
  "kernelspec": {
   "display_name": "Python 3 (ipykernel)",
   "language": "python",
   "name": "python3"
  },
  "language_info": {
   "codemirror_mode": {
    "name": "ipython",
    "version": 3
   },
   "file_extension": ".py",
   "mimetype": "text/x-python",
   "name": "python",
   "nbconvert_exporter": "python",
   "pygments_lexer": "ipython3",
   "version": "3.10.9"
  }
 },
 "nbformat": 4,
 "nbformat_minor": 5
}
