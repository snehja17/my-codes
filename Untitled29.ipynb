{
 "cells": [
  {
   "cell_type": "code",
   "execution_count": 11,
   "id": "f680756f",
   "metadata": {},
   "outputs": [
    {
     "name": "stdout",
     "output_type": "stream",
     "text": [
      "  love mayapur\n",
      "i love mayapur\n",
      "i  ove mayapur\n",
      "i l ve mayapur\n",
      "i lo e mayapur\n",
      "i lov  mayapur\n",
      "i love mayapur\n",
      "i love  ayapur\n",
      "i love m y pur\n",
      "i love ma apur\n",
      "i love m y pur\n",
      "i love maya ur\n",
      "i love mayap r\n",
      "i love mayapu \n"
     ]
    }
   ],
   "source": [
    "s=\"i love mayapur\"\n",
    "t=\" \"\n",
    "for i in range(len(s)):\n",
    "    s.replace(s[i],t)\n",
    "    print( s.replace(s[i],t))"
   ]
  },
  {
   "cell_type": "code",
   "execution_count": null,
   "id": "45dec5b7",
   "metadata": {},
   "outputs": [],
   "source": []
  },
  {
   "cell_type": "code",
   "execution_count": null,
   "id": "b9b68bc0",
   "metadata": {},
   "outputs": [],
   "source": []
  }
 ],
 "metadata": {
  "kernelspec": {
   "display_name": "Python 3 (ipykernel)",
   "language": "python",
   "name": "python3"
  },
  "language_info": {
   "codemirror_mode": {
    "name": "ipython",
    "version": 3
   },
   "file_extension": ".py",
   "mimetype": "text/x-python",
   "name": "python",
   "nbconvert_exporter": "python",
   "pygments_lexer": "ipython3",
   "version": "3.10.9"
  }
 },
 "nbformat": 4,
 "nbformat_minor": 5
}
