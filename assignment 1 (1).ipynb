{
 "cells": [
  {
   "cell_type": "code",
   "execution_count": 1,
   "id": "ce4871b7",
   "metadata": {},
   "outputs": [
    {
     "name": "stdout",
     "output_type": "stream",
     "text": [
      "hello python\n"
     ]
    }
   ],
   "source": [
    "print ('hello python')"
   ]
  },
  {
   "cell_type": "code",
   "execution_count": 2,
   "id": "56f4eddb",
   "metadata": {},
   "outputs": [
    {
     "name": "stdout",
     "output_type": "stream",
     "text": [
      "30\n"
     ]
    }
   ],
   "source": [
    "a=10\n",
    "b=20\n",
    "print(a+b)"
   ]
  },
  {
   "cell_type": "code",
   "execution_count": 1,
   "id": "bd73ab48",
   "metadata": {},
   "outputs": [
    {
     "name": "stdout",
     "output_type": "stream",
     "text": [
      "write the length10\n",
      "write the height10\n"
     ]
    }
   ],
   "source": [
    "l=float(input(\"write the length\"))\n",
    "m=float(input(\"write the height\" ))\n"
   ]
  },
  {
   "cell_type": "code",
   "execution_count": 5,
   "id": "e863ead1",
   "metadata": {},
   "outputs": [
    {
     "data": {
      "text/plain": [
       "100.0"
      ]
     },
     "execution_count": 5,
     "metadata": {},
     "output_type": "execute_result"
    }
   ],
   "source": [
    "l*m"
   ]
  },
  {
   "cell_type": "code",
   "execution_count": 6,
   "id": "3d1465ee",
   "metadata": {},
   "outputs": [
    {
     "data": {
      "text/plain": [
       "50.0"
      ]
     },
     "execution_count": 6,
     "metadata": {},
     "output_type": "execute_result"
    }
   ],
   "source": [
    "l*m/2\n"
   ]
  },
  {
   "cell_type": "code",
   "execution_count": 7,
   "id": "272fb28e",
   "metadata": {},
   "outputs": [
    {
     "name": "stdout",
     "output_type": "stream",
     "text": [
      "write the length40\n",
      "write the height30\n",
      "600.0\n"
     ]
    }
   ],
   "source": [
    "l=float(input(\"write the length\"))\n",
    "m=float(input(\"write the height\" ))\n",
    "print(l*m/2)\n"
   ]
  },
  {
   "cell_type": "code",
   "execution_count": 10,
   "id": "3bd3133d",
   "metadata": {},
   "outputs": [
    {
     "name": "stdout",
     "output_type": "stream",
     "text": [
      "write value of p10\n",
      "write value of q45\n"
     ]
    }
   ],
   "source": [
    "P=int(input(\"write value of p\"))\n",
    "Q=int(input(\"write value of q\"))\n",
    "temp=P\n",
    "P=Q\n",
    "Q= temp"
   ]
  },
  {
   "cell_type": "code",
   "execution_count": 11,
   "id": "54268488",
   "metadata": {},
   "outputs": [
    {
     "name": "stdout",
     "output_type": "stream",
     "text": [
      "45 10\n"
     ]
    }
   ],
   "source": [
    "print (P,Q)"
   ]
  },
  {
   "cell_type": "code",
   "execution_count": null,
   "id": "cc6e28da",
   "metadata": {},
   "outputs": [],
   "source": []
  }
 ],
 "metadata": {
  "kernelspec": {
   "display_name": "Python 3 (ipykernel)",
   "language": "python",
   "name": "python3"
  },
  "language_info": {
   "codemirror_mode": {
    "name": "ipython",
    "version": 3
   },
   "file_extension": ".py",
   "mimetype": "text/x-python",
   "name": "python",
   "nbconvert_exporter": "python",
   "pygments_lexer": "ipython3",
   "version": "3.10.9"
  }
 },
 "nbformat": 4,
 "nbformat_minor": 5
}
