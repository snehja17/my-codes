{
 "cells": [
  {
   "cell_type": "code",
   "execution_count": 1,
   "id": "ca735c0f",
   "metadata": {},
   "outputs": [],
   "source": [
    "import numpy as np"
   ]
  },
  {
   "cell_type": "code",
   "execution_count": 2,
   "id": "c3bd6980",
   "metadata": {},
   "outputs": [],
   "source": [
    "import array"
   ]
  },
  {
   "cell_type": "code",
   "execution_count": 3,
   "id": "be807b01",
   "metadata": {},
   "outputs": [
    {
     "data": {
      "text/plain": [
       "array([   100.        ,    215.443469  ,    464.15888336,   1000.        ,\n",
       "         2154.43469003,   4641.58883361,  10000.        ,  21544.34690032,\n",
       "        46415.88833613, 100000.        ])"
      ]
     },
     "execution_count": 3,
     "metadata": {},
     "output_type": "execute_result"
    }
   ],
   "source": [
    "np.logspace(2,5,10)"
   ]
  },
  {
   "cell_type": "code",
   "execution_count": 6,
   "id": "168cf206",
   "metadata": {},
   "outputs": [
    {
     "data": {
      "text/plain": [
       "array([0.29892146, 0.3550667 , 0.02202246])"
      ]
     },
     "execution_count": 6,
     "metadata": {},
     "output_type": "execute_result"
    }
   ],
   "source": [
    "np.random.rand(3)     # generTes 3 random data            # returns data from 'uniform distribution'"
   ]
  },
  {
   "cell_type": "code",
   "execution_count": 8,
   "id": "6d02172d",
   "metadata": {},
   "outputs": [
    {
     "data": {
      "text/plain": [
       "array([-1.17180763,  0.6627263 , -0.46868186, -0.97602862, -0.03961755])"
      ]
     },
     "execution_count": 8,
     "metadata": {},
     "output_type": "execute_result"
    }
   ],
   "source": [
    " np.random.randn(5)                          # returns data from 'standard normal distribution'"
   ]
  },
  {
   "cell_type": "code",
   "execution_count": 10,
   "id": "2dbfd5c0",
   "metadata": {},
   "outputs": [
    {
     "data": {
      "text/plain": [
       "array([[-0.07748024, -0.76451153,  0.82114036,  0.3815825 ],\n",
       "       [-1.2307558 , -1.38372464, -0.82963251,  0.6820123 ],\n",
       "       [ 1.19107889, -0.42728059,  1.57700559, -0.95865926]])"
      ]
     },
     "execution_count": 10,
     "metadata": {},
     "output_type": "execute_result"
    }
   ],
   "source": [
    "np.random.randn(3,4)"
   ]
  },
  {
   "cell_type": "code",
   "execution_count": 14,
   "id": "24fc5962",
   "metadata": {},
   "outputs": [
    {
     "data": {
      "text/plain": [
       "array([[[-0.74427203, -1.36922623, -0.50506206, -0.37570267],\n",
       "        [-0.4712745 , -0.19136402,  1.16655721,  1.24440582],\n",
       "        [ 0.11836845,  2.83883831, -0.2475187 ,  0.69938928]],\n",
       "\n",
       "       [[-0.51477655, -2.07068958, -0.34583692,  0.95721001],\n",
       "        [-1.8948295 , -0.6590565 , -0.35816937, -0.34378761],\n",
       "        [ 0.2447873 ,  0.38504522,  0.32781053,  0.95717832]]])"
      ]
     },
     "execution_count": 14,
     "metadata": {},
     "output_type": "execute_result"
    }
   ],
   "source": [
    "np.random.randn(2,3,4)"
   ]
  },
  {
   "cell_type": "code",
   "execution_count": 17,
   "id": "e415dfd5",
   "metadata": {},
   "outputs": [
    {
     "data": {
      "text/plain": [
       "18"
      ]
     },
     "execution_count": 17,
     "metadata": {},
     "output_type": "execute_result"
    }
   ],
   "source": [
    "np.random.randint(31)       # generates random integers"
   ]
  },
  {
   "cell_type": "code",
   "execution_count": 18,
   "id": "ab402e08",
   "metadata": {},
   "outputs": [
    {
     "data": {
      "text/plain": [
       "3"
      ]
     },
     "execution_count": 18,
     "metadata": {},
     "output_type": "execute_result"
    }
   ],
   "source": [
    "np.random.randint(1,5) "
   ]
  },
  {
   "cell_type": "code",
   "execution_count": 20,
   "id": "a15a4cdb",
   "metadata": {},
   "outputs": [
    {
     "data": {
      "text/plain": [
       "array([[ 4,  3, 15,  5],\n",
       "       [14,  2, 15,  6],\n",
       "       [ 9, 19,  9,  7],\n",
       "       [ 9,  9, 15, 13]])"
      ]
     },
     "execution_count": 20,
     "metadata": {},
     "output_type": "execute_result"
    }
   ],
   "source": [
    "np.random.randint(2,20,(4,4)) # between 2,20 we generated 4 cross 4 matrix"
   ]
  },
  {
   "cell_type": "code",
   "execution_count": 21,
   "id": "8986e349",
   "metadata": {},
   "outputs": [],
   "source": [
    "arr=np.random.randint(6,23,(3,3))"
   ]
  },
  {
   "cell_type": "code",
   "execution_count": 22,
   "id": "0dade1f6",
   "metadata": {},
   "outputs": [
    {
     "data": {
      "text/plain": [
       "array([[12, 16,  7],\n",
       "       [21, 10,  6],\n",
       "       [20, 12, 17]])"
      ]
     },
     "execution_count": 22,
     "metadata": {},
     "output_type": "execute_result"
    }
   ],
   "source": [
    "arr"
   ]
  },
  {
   "cell_type": "code",
   "execution_count": 23,
   "id": "aa9e1511",
   "metadata": {},
   "outputs": [
    {
     "data": {
      "text/plain": [
       "array([[12],\n",
       "       [16],\n",
       "       [ 7],\n",
       "       [21],\n",
       "       [10],\n",
       "       [ 6],\n",
       "       [20],\n",
       "       [12],\n",
       "       [17]])"
      ]
     },
     "execution_count": 23,
     "metadata": {},
     "output_type": "execute_result"
    }
   ],
   "source": [
    "arr.reshape(9,1)"
   ]
  },
  {
   "cell_type": "code",
   "execution_count": 24,
   "id": "8ee826a2",
   "metadata": {},
   "outputs": [
    {
     "data": {
      "text/plain": [
       "array([[12, 16,  7, 21, 10,  6, 20, 12, 17]])"
      ]
     },
     "execution_count": 24,
     "metadata": {},
     "output_type": "execute_result"
    }
   ],
   "source": [
    "arr.reshape(1,9)"
   ]
  },
  {
   "cell_type": "code",
   "execution_count": 28,
   "id": "8baa4f4c",
   "metadata": {},
   "outputs": [],
   "source": [
    "#lets reshape it in 3 d"
   ]
  },
  {
   "cell_type": "code",
   "execution_count": 29,
   "id": "fdf3b3fb",
   "metadata": {},
   "outputs": [
    {
     "data": {
      "text/plain": [
       "array([[[12, 16,  7, 21, 10,  6, 20, 12, 17]]])"
      ]
     },
     "execution_count": 29,
     "metadata": {},
     "output_type": "execute_result"
    }
   ],
   "source": [
    "arr.reshape(1,1,9)"
   ]
  },
  {
   "cell_type": "code",
   "execution_count": 31,
   "id": "de5bf48a",
   "metadata": {},
   "outputs": [
    {
     "data": {
      "text/plain": [
       "array([[[12],\n",
       "        [16],\n",
       "        [ 7]],\n",
       "\n",
       "       [[21],\n",
       "        [10],\n",
       "        [ 6]],\n",
       "\n",
       "       [[20],\n",
       "        [12],\n",
       "        [17]]])"
      ]
     },
     "execution_count": 31,
     "metadata": {},
     "output_type": "execute_result"
    }
   ],
   "source": [
    "arr.reshape(3,3,1)"
   ]
  },
  {
   "cell_type": "code",
   "execution_count": null,
   "id": "b9aa7689",
   "metadata": {},
   "outputs": [],
   "source": []
  },
  {
   "cell_type": "code",
   "execution_count": 40,
   "id": "24049063",
   "metadata": {},
   "outputs": [
    {
     "data": {
      "text/plain": [
       "21"
      ]
     },
     "execution_count": 40,
     "metadata": {},
     "output_type": "execute_result"
    }
   ],
   "source": [
    "arr.max()"
   ]
  },
  {
   "cell_type": "raw",
   "id": "8d249fde",
   "metadata": {},
   "source": [
    "brackets are imp"
   ]
  },
  {
   "cell_type": "code",
   "execution_count": 41,
   "id": "8830c5ca",
   "metadata": {},
   "outputs": [
    {
     "data": {
      "text/plain": [
       "6"
      ]
     },
     "execution_count": 41,
     "metadata": {},
     "output_type": "execute_result"
    }
   ],
   "source": [
    "arr.min()"
   ]
  },
  {
   "cell_type": "code",
   "execution_count": 43,
   "id": "c7a631c2",
   "metadata": {},
   "outputs": [
    {
     "data": {
      "text/plain": [
       "array([[17]])"
      ]
     },
     "execution_count": 43,
     "metadata": {},
     "output_type": "execute_result"
    }
   ],
   "source": [
    "arr[2: ,2:]"
   ]
  },
  {
   "cell_type": "code",
   "execution_count": 44,
   "id": "831965d3",
   "metadata": {},
   "outputs": [
    {
     "data": {
      "text/plain": [
       "array([[12, 16],\n",
       "       [21, 10],\n",
       "       [20, 12]])"
      ]
     },
     "execution_count": 44,
     "metadata": {},
     "output_type": "execute_result"
    }
   ],
   "source": [
    "arr[:,[0,1]]"
   ]
  },
  {
   "cell_type": "code",
   "execution_count": 45,
   "id": "7c77108d",
   "metadata": {},
   "outputs": [
    {
     "data": {
      "text/plain": [
       "array([[ True,  True, False],\n",
       "       [ True, False, False],\n",
       "       [ True,  True,  True]])"
      ]
     },
     "execution_count": 45,
     "metadata": {},
     "output_type": "execute_result"
    }
   ],
   "source": [
    "arr>10"
   ]
  },
  {
   "cell_type": "code",
   "execution_count": 46,
   "id": "99fb6669",
   "metadata": {},
   "outputs": [
    {
     "data": {
      "text/plain": [
       "array([12, 16, 21, 20, 12, 17])"
      ]
     },
     "execution_count": 46,
     "metadata": {},
     "output_type": "execute_result"
    }
   ],
   "source": [
    "arr[arr>10]"
   ]
  },
  {
   "cell_type": "code",
   "execution_count": 47,
   "id": "d37e3427",
   "metadata": {},
   "outputs": [
    {
     "data": {
      "text/plain": [
       "array([[12, 16,  7],\n",
       "       [21, 10,  6],\n",
       "       [20, 12, 17]])"
      ]
     },
     "execution_count": 47,
     "metadata": {},
     "output_type": "execute_result"
    }
   ],
   "source": [
    "arr"
   ]
  },
  {
   "cell_type": "code",
   "execution_count": 48,
   "id": "dac7c185",
   "metadata": {},
   "outputs": [
    {
     "data": {
      "text/plain": [
       "array([[144, 256,  49],\n",
       "       [441, 100,  36],\n",
       "       [400, 144, 289]])"
      ]
     },
     "execution_count": 48,
     "metadata": {},
     "output_type": "execute_result"
    }
   ],
   "source": [
    "arr*arr"
   ]
  },
  {
   "cell_type": "code",
   "execution_count": 50,
   "id": "d7cfdb19",
   "metadata": {},
   "outputs": [],
   "source": [
    "arr1=np.random.randint(6,90,(3,3))"
   ]
  },
  {
   "cell_type": "raw",
   "id": "0dc69c59",
   "metadata": {},
   "source": []
  },
  {
   "cell_type": "markdown",
   "id": "af4f7f1a",
   "metadata": {},
   "source": [
    "# "
   ]
  },
  {
   "cell_type": "code",
   "execution_count": 51,
   "id": "512fbeb4",
   "metadata": {},
   "outputs": [
    {
     "data": {
      "text/plain": [
       "array([[1368, 4674, 1656],\n",
       "       [1168, 3741,  798],\n",
       "       [3871, 2788, 3588]])"
      ]
     },
     "execution_count": 51,
     "metadata": {},
     "output_type": "execute_result"
    }
   ],
   "source": [
    "arr1*arr"
   ]
  },
  {
   "cell_type": "code",
   "execution_count": 52,
   "id": "ee57868d",
   "metadata": {},
   "outputs": [
    {
     "data": {
      "text/plain": [
       "array([[ 8131, 10506,  6915],\n",
       "       [ 9238,  9194,  5277],\n",
       "       [ 9144, 11695,  6486]])"
      ]
     },
     "execution_count": 52,
     "metadata": {},
     "output_type": "execute_result"
    }
   ],
   "source": [
    "arr1@arr         #matrix multiplication"
   ]
  },
  {
   "cell_type": "code",
   "execution_count": 53,
   "id": "2e09f72b",
   "metadata": {},
   "outputs": [
    {
     "name": "stderr",
     "output_type": "stream",
     "text": [
      "C:\\Users\\Snehja Srivastava\\AppData\\Local\\Temp\\ipykernel_18352\\4291252909.py:1: RuntimeWarning: divide by zero encountered in divide\n",
      "  arr/0\n"
     ]
    },
    {
     "data": {
      "text/plain": [
       "array([[inf, inf, inf],\n",
       "       [inf, inf, inf],\n",
       "       [inf, inf, inf]])"
      ]
     },
     "execution_count": 53,
     "metadata": {},
     "output_type": "execute_result"
    }
   ],
   "source": [
    "arr/0"
   ]
  },
  {
   "cell_type": "code",
   "execution_count": 54,
   "id": "3af53e64",
   "metadata": {},
   "outputs": [
    {
     "data": {
      "text/plain": [
       "array([[5776, 3249,  576],\n",
       "       [ 256, 7569,  441],\n",
       "       [6241, 1156, 4761]])"
      ]
     },
     "execution_count": 54,
     "metadata": {},
     "output_type": "execute_result"
    }
   ],
   "source": [
    "arr**2                       # array to the power 2"
   ]
  },
  {
   "cell_type": "code",
   "execution_count": 55,
   "id": "0714f571",
   "metadata": {},
   "outputs": [],
   "source": [
    "# BROADCASTING CONCEPT"
   ]
  },
  {
   "cell_type": "code",
   "execution_count": 56,
   "id": "d62f9448",
   "metadata": {},
   "outputs": [],
   "source": [
    "arr=np.zeros((3,4))"
   ]
  },
  {
   "cell_type": "code",
   "execution_count": 57,
   "id": "b9331920",
   "metadata": {},
   "outputs": [
    {
     "data": {
      "text/plain": [
       "array([[0., 0., 0., 0.],\n",
       "       [0., 0., 0., 0.],\n",
       "       [0., 0., 0., 0.]])"
      ]
     },
     "execution_count": 57,
     "metadata": {},
     "output_type": "execute_result"
    }
   ],
   "source": [
    "arr"
   ]
  },
  {
   "cell_type": "code",
   "execution_count": 59,
   "id": "e397a041",
   "metadata": {},
   "outputs": [],
   "source": [
    "a= np.array([1,3,4,6])"
   ]
  },
  {
   "cell_type": "code",
   "execution_count": 60,
   "id": "996a2f76",
   "metadata": {},
   "outputs": [
    {
     "data": {
      "text/plain": [
       "array([[1., 3., 4., 6.],\n",
       "       [1., 3., 4., 6.],\n",
       "       [1., 3., 4., 6.]])"
      ]
     },
     "execution_count": 60,
     "metadata": {},
     "output_type": "execute_result"
    }
   ],
   "source": [
    "arr+a"
   ]
  },
  {
   "cell_type": "code",
   "execution_count": 61,
   "id": "32dc705f",
   "metadata": {},
   "outputs": [
    {
     "data": {
      "text/plain": [
       "array([[5., 5., 5., 5.],\n",
       "       [5., 5., 5., 5.],\n",
       "       [5., 5., 5., 5.]])"
      ]
     },
     "execution_count": 61,
     "metadata": {},
     "output_type": "execute_result"
    }
   ],
   "source": [
    "arr+5         # it broadcasts 5"
   ]
  },
  {
   "cell_type": "code",
   "execution_count": 68,
   "id": "2af941b9",
   "metadata": {},
   "outputs": [],
   "source": [
    "b=np.array([5,6,4])"
   ]
  },
  {
   "cell_type": "code",
   "execution_count": 69,
   "id": "edb8232a",
   "metadata": {},
   "outputs": [
    {
     "ename": "ValueError",
     "evalue": "operands could not be broadcast together with shapes (3,) (3,4) ",
     "output_type": "error",
     "traceback": [
      "\u001b[1;31m---------------------------------------------------------------------------\u001b[0m",
      "\u001b[1;31mValueError\u001b[0m                                Traceback (most recent call last)",
      "Cell \u001b[1;32mIn[69], line 1\u001b[0m\n\u001b[1;32m----> 1\u001b[0m \u001b[43mb\u001b[49m\u001b[38;5;241;43m+\u001b[39;49m\u001b[43marr\u001b[49m\n",
      "\u001b[1;31mValueError\u001b[0m: operands could not be broadcast together with shapes (3,) (3,4) "
     ]
    }
   ],
   "source": [
    "b+arr"
   ]
  },
  {
   "cell_type": "code",
   "execution_count": 70,
   "id": "ca819b35",
   "metadata": {},
   "outputs": [
    {
     "data": {
      "text/plain": [
       "array([[5],\n",
       "       [6],\n",
       "       [4]])"
      ]
     },
     "execution_count": 70,
     "metadata": {},
     "output_type": "execute_result"
    }
   ],
   "source": [
    "b.reshape(3,1)"
   ]
  },
  {
   "cell_type": "code",
   "execution_count": 72,
   "id": "00aa66bd",
   "metadata": {},
   "outputs": [
    {
     "data": {
      "text/plain": [
       "array([[5., 5., 5., 5.],\n",
       "       [6., 6., 6., 6.],\n",
       "       [4., 4., 4., 4.]])"
      ]
     },
     "execution_count": 72,
     "metadata": {},
     "output_type": "execute_result"
    }
   ],
   "source": [
    "b.reshape(3,1)+arr"
   ]
  },
  {
   "cell_type": "code",
   "execution_count": 73,
   "id": "831f0b56",
   "metadata": {},
   "outputs": [],
   "source": [
    "# ANOTHER WAY"
   ]
  },
  {
   "cell_type": "code",
   "execution_count": 74,
   "id": "e3dcf6c4",
   "metadata": {},
   "outputs": [
    {
     "data": {
      "text/plain": [
       "array([5, 6, 4])"
      ]
     },
     "execution_count": 74,
     "metadata": {},
     "output_type": "execute_result"
    }
   ],
   "source": [
    "b.T"
   ]
  },
  {
   "cell_type": "code",
   "execution_count": 75,
   "id": "f5ab589d",
   "metadata": {},
   "outputs": [],
   "source": [
    "# covert in 2 d tabhi axis define hogi"
   ]
  },
  {
   "cell_type": "code",
   "execution_count": 76,
   "id": "c2bc8466",
   "metadata": {},
   "outputs": [],
   "source": [
    "b=np.array([[5,6,4]])"
   ]
  },
  {
   "cell_type": "code",
   "execution_count": 77,
   "id": "14f50167",
   "metadata": {},
   "outputs": [
    {
     "data": {
      "text/plain": [
       "array([[5],\n",
       "       [6],\n",
       "       [4]])"
      ]
     },
     "execution_count": 77,
     "metadata": {},
     "output_type": "execute_result"
    }
   ],
   "source": [
    "b.T"
   ]
  },
  {
   "cell_type": "code",
   "execution_count": 78,
   "id": "1f98e382",
   "metadata": {},
   "outputs": [
    {
     "data": {
      "text/plain": [
       "array([[5., 5., 5., 5.],\n",
       "       [6., 6., 6., 6.],\n",
       "       [4., 4., 4., 4.]])"
      ]
     },
     "execution_count": 78,
     "metadata": {},
     "output_type": "execute_result"
    }
   ],
   "source": [
    "b.T+arr"
   ]
  },
  {
   "cell_type": "code",
   "execution_count": 79,
   "id": "8ee41739",
   "metadata": {},
   "outputs": [],
   "source": [
    "# lets find square root"
   ]
  },
  {
   "cell_type": "code",
   "execution_count": 85,
   "id": "97709fba",
   "metadata": {},
   "outputs": [],
   "source": [
    "arr1=np.random.rand(3,4)"
   ]
  },
  {
   "cell_type": "raw",
   "id": "f5b2a18b",
   "metadata": {},
   "source": [
    "3 cross 4 ka random array we will get"
   ]
  },
  {
   "cell_type": "code",
   "execution_count": 86,
   "id": "76c6a9a8",
   "metadata": {},
   "outputs": [
    {
     "data": {
      "text/plain": [
       "array([[0.73657029, 0.39440362, 0.21308056, 0.92874634],\n",
       "       [0.20138169, 0.72280303, 0.28684124, 0.87131311],\n",
       "       [0.71824653, 0.71583215, 0.71249002, 0.13735752]])"
      ]
     },
     "execution_count": 86,
     "metadata": {},
     "output_type": "execute_result"
    }
   ],
   "source": [
    "arr1"
   ]
  },
  {
   "cell_type": "code",
   "execution_count": 89,
   "id": "6f429039",
   "metadata": {},
   "outputs": [
    {
     "data": {
      "text/plain": [
       "array([[0.85823673, 0.62801562, 0.4616065 , 0.96371487],\n",
       "       [0.44875571, 0.85017823, 0.53557561, 0.93344154],\n",
       "       [0.84749426, 0.84606865, 0.84409124, 0.37061775]])"
      ]
     },
     "execution_count": 89,
     "metadata": {},
     "output_type": "execute_result"
    }
   ],
   "source": [
    "np.sqrt(arr1)"
   ]
  },
  {
   "cell_type": "code",
   "execution_count": 93,
   "id": "37b706bb",
   "metadata": {},
   "outputs": [
    {
     "data": {
      "text/plain": [
       "array([[-0.1327858 , -0.40405911, -0.67145617, -0.03210288],\n",
       "       [-0.69598002, -0.14098003, -0.54235841, -0.05982575],\n",
       "       [-0.14372647, -0.1451888 , -0.14722122, -0.86214757]])"
      ]
     },
     "execution_count": 93,
     "metadata": {},
     "output_type": "execute_result"
    }
   ],
   "source": [
    "np.log10(arr1)"
   ]
  },
  {
   "cell_type": "code",
   "execution_count": 97,
   "id": "b6653fff",
   "metadata": {},
   "outputs": [],
   "source": [
    "np.random.seed(13)      # this prevents random data to change when we run"
   ]
  },
  {
   "cell_type": "code",
   "execution_count": 103,
   "id": "fd322cc3",
   "metadata": {},
   "outputs": [
    {
     "data": {
      "text/plain": [
       "array([[0.77770241, 0.23754122, 0.82427853],\n",
       "       [0.9657492 , 0.97260111, 0.45344925]])"
      ]
     },
     "execution_count": 103,
     "metadata": {},
     "output_type": "execute_result"
    }
   ],
   "source": [
    "np.random.seed(13)\n",
    "np.random.rand(2,3)"
   ]
  },
  {
   "cell_type": "code",
   "execution_count": null,
   "id": "e40f09d5",
   "metadata": {},
   "outputs": [],
   "source": []
  },
  {
   "cell_type": "code",
   "execution_count": null,
   "id": "dcd3bf2f",
   "metadata": {},
   "outputs": [],
   "source": []
  }
 ],
 "metadata": {
  "kernelspec": {
   "display_name": "Python 3 (ipykernel)",
   "language": "python",
   "name": "python3"
  },
  "language_info": {
   "codemirror_mode": {
    "name": "ipython",
    "version": 3
   },
   "file_extension": ".py",
   "mimetype": "text/x-python",
   "name": "python",
   "nbconvert_exporter": "python",
   "pygments_lexer": "ipython3",
   "version": "3.10.9"
  }
 },
 "nbformat": 4,
 "nbformat_minor": 5
}
