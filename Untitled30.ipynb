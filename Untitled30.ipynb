{
 "cells": [
  {
   "cell_type": "code",
   "execution_count": 9,
   "id": "0e3835d8",
   "metadata": {},
   "outputs": [],
   "source": [
    "def remove(string,i):\n",
    "    return  (string+i)\n",
    "  a= string[: i]\n",
    "    b= string[i+1:]"
   ]
  },
  {
   "cell_type": "code",
   "execution_count": 12,
   "id": "c568fb03",
   "metadata": {},
   "outputs": [
    {
     "data": {
      "text/plain": [
       "'i lve krsna'"
      ]
     },
     "execution_count": 12,
     "metadata": {},
     "output_type": "execute_result"
    }
   ],
   "source": [
    "remove(\"i love krsna\",3)"
   ]
  },
  {
   "cell_type": "code",
   "execution_count": 14,
   "id": "e37c3c31",
   "metadata": {},
   "outputs": [
    {
     "data": {
      "text/plain": [
       "'i loe krsna'"
      ]
     },
     "execution_count": 14,
     "metadata": {},
     "output_type": "execute_result"
    }
   ],
   "source": [
    "remove(\"i love krsna\",4)"
   ]
  },
  {
   "cell_type": "code",
   "execution_count": null,
   "id": "a953fa62",
   "metadata": {},
   "outputs": [],
   "source": []
  }
 ],
 "metadata": {
  "kernelspec": {
   "display_name": "Python 3 (ipykernel)",
   "language": "python",
   "name": "python3"
  },
  "language_info": {
   "codemirror_mode": {
    "name": "ipython",
    "version": 3
   },
   "file_extension": ".py",
   "mimetype": "text/x-python",
   "name": "python",
   "nbconvert_exporter": "python",
   "pygments_lexer": "ipython3",
   "version": "3.10.9"
  }
 },
 "nbformat": 4,
 "nbformat_minor": 5
}
