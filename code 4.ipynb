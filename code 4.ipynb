{
 "cells": [
  {
   "cell_type": "code",
   "execution_count": 14,
   "id": "705d183e",
   "metadata": {},
   "outputs": [
    {
     "name": "stdout",
     "output_type": "stream",
     "text": [
      "hare krishna\n"
     ]
    }
   ],
   "source": [
    "a=10\n",
    "b=30\n",
    "\n",
    "\n",
    "if a==10 and b==2 :                        # note we used and condition (similar learnt in boolean algebra)\n",
    "    print (\"give me the result\")\n",
    "elif a==10 and b >20: \n",
    "    print (\"hare krishna\")\n",
    "else:\n",
    "    print (\"no result\")\n",
    "    \n",
    "    "
   ]
  },
  {
   "cell_type": "code",
   "execution_count": 4,
   "id": "1cd62005",
   "metadata": {},
   "outputs": [
    {
     "data": {
      "text/plain": [
       "True"
      ]
     },
     "execution_count": 4,
     "metadata": {},
     "output_type": "execute_result"
    }
   ],
   "source": [
    "a==10"
   ]
  },
  {
   "cell_type": "code",
   "execution_count": 5,
   "id": "4455fde8",
   "metadata": {},
   "outputs": [
    {
     "data": {
      "text/plain": [
       "False"
      ]
     },
     "execution_count": 5,
     "metadata": {},
     "output_type": "execute_result"
    }
   ],
   "source": [
    "b==10"
   ]
  },
  {
   "cell_type": "code",
   "execution_count": 6,
   "id": "610580d9",
   "metadata": {},
   "outputs": [
    {
     "data": {
      "text/plain": [
       "True"
      ]
     },
     "execution_count": 6,
     "metadata": {},
     "output_type": "execute_result"
    }
   ],
   "source": [
    "a==10 and b>1"
   ]
  },
  {
   "cell_type": "code",
   "execution_count": 18,
   "id": "6069bad3",
   "metadata": {},
   "outputs": [
    {
     "name": "stdout",
     "output_type": "stream",
     "text": [
      "what is your first name?krsna\n",
      "what is your last namedas\n",
      "later\n"
     ]
    }
   ],
   "source": [
    "\n",
    "a= input(\"what is your first name?\")\n",
    "b = input (\"what is your last name\")\n",
    "if a== 'snehja' and b== 'srivastava':\n",
    "    print (\"recommend her\")\n",
    "else:\n",
    "    print(\"later\")\n",
    "\n",
    "\n",
    "\n"
   ]
  },
  {
   "cell_type": "code",
   "execution_count": null,
   "id": "5b69ed78",
   "metadata": {},
   "outputs": [],
   "source": []
  }
 ],
 "metadata": {
  "kernelspec": {
   "display_name": "Python 3 (ipykernel)",
   "language": "python",
   "name": "python3"
  },
  "language_info": {
   "codemirror_mode": {
    "name": "ipython",
    "version": 3
   },
   "file_extension": ".py",
   "mimetype": "text/x-python",
   "name": "python",
   "nbconvert_exporter": "python",
   "pygments_lexer": "ipython3",
   "version": "3.10.9"
  }
 },
 "nbformat": 4,
 "nbformat_minor": 5
}
