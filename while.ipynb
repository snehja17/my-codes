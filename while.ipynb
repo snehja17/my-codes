{
 "cells": [
  {
   "cell_type": "code",
   "execution_count": 5,
   "id": "02cb182c",
   "metadata": {},
   "outputs": [
    {
     "name": "stdout",
     "output_type": "stream",
     "text": [
      "lions are around \n",
      "lions are around \n",
      "lions are around \n",
      "lions are around \n",
      "lions are around \n",
      "lions are around \n",
      "lions are around \n",
      "lions are around \n",
      "lions are around \n"
     ]
    }
   ],
   "source": [
    "initial_speed=0\n",
    "final_speed=100\n",
    "\n",
    "count=1\n",
    "\n",
    "while initial_speed <= final_speed:\n",
    "    print (\"lions are around \")\n",
    "    count=count+1\n",
    "    if count==10:\n",
    "     break"
   ]
  },
  {
   "cell_type": "code",
   "execution_count": null,
   "id": "179638ef",
   "metadata": {},
   "outputs": [],
   "source": []
  },
  {
   "cell_type": "code",
   "execution_count": null,
   "id": "0419a058",
   "metadata": {},
   "outputs": [],
   "source": []
  },
  {
   "cell_type": "code",
   "execution_count": null,
   "id": "fe49e3d8",
   "metadata": {},
   "outputs": [],
   "source": []
  }
 ],
 "metadata": {
  "kernelspec": {
   "display_name": "Python 3 (ipykernel)",
   "language": "python",
   "name": "python3"
  },
  "language_info": {
   "codemirror_mode": {
    "name": "ipython",
    "version": 3
   },
   "file_extension": ".py",
   "mimetype": "text/x-python",
   "name": "python",
   "nbconvert_exporter": "python",
   "pygments_lexer": "ipython3",
   "version": "3.10.9"
  }
 },
 "nbformat": 4,
 "nbformat_minor": 5
}
