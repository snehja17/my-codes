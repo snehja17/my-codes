{
 "cells": [
  {
   "cell_type": "code",
   "execution_count": 1,
   "id": "d8a3f2d3",
   "metadata": {},
   "outputs": [],
   "source": [
    "import numpy as np"
   ]
  },
  {
   "cell_type": "code",
   "execution_count": 2,
   "id": "0ab74b3e",
   "metadata": {},
   "outputs": [],
   "source": [
    "import array"
   ]
  },
  {
   "cell_type": "code",
   "execution_count": 9,
   "id": "cd193a13",
   "metadata": {},
   "outputs": [
    {
     "data": {
      "text/plain": [
       "array([0, 1, 2, 3, 4])"
      ]
     },
     "execution_count": 9,
     "metadata": {},
     "output_type": "execute_result"
    }
   ],
   "source": [
    "np.fromiter(range(5) , dtype=int)"
   ]
  },
  {
   "cell_type": "code",
   "execution_count": 11,
   "id": "87efe0d1",
   "metadata": {},
   "outputs": [
    {
     "data": {
      "text/plain": [
       "array([ 23,  45, 346,  45,   7])"
      ]
     },
     "execution_count": 11,
     "metadata": {},
     "output_type": "execute_result"
    }
   ],
   "source": [
    "np.fromstring('23,45,346,45,7' , sep= ',' , dtype=int)"
   ]
  },
  {
   "cell_type": "code",
   "execution_count": 17,
   "id": "0de6c6c2",
   "metadata": {},
   "outputs": [
    {
     "data": {
      "text/plain": [
       "array([23.+0.j, 35.+0.j, 45.+0.j,  6.+0.j, 65.+0.j])"
      ]
     },
     "execution_count": 17,
     "metadata": {},
     "output_type": "execute_result"
    }
   ],
   "source": [
    "np.fromstring(\"23 35 45 6 65\" , sep=' ' , dtype=complex)        # string "
   ]
  },
  {
   "cell_type": "code",
   "execution_count": 19,
   "id": "2bbfc9e4",
   "metadata": {},
   "outputs": [
    {
     "data": {
      "text/plain": [
       "array([  1,  22,  43, 534,  64, 575,  68])"
      ]
     },
     "execution_count": 19,
     "metadata": {},
     "output_type": "execute_result"
    }
   ],
   "source": [
    "l= [1,22,43,534,64,575,68]                # passing list in array\n",
    "np.array(l)"
   ]
  },
  {
   "cell_type": "code",
   "execution_count": 33,
   "id": "6196291d",
   "metadata": {},
   "outputs": [],
   "source": [
    "l=[[2,3,5,5] , [3,5,465,4] , [4,4,67,9]]\n"
   ]
  },
  {
   "cell_type": "code",
   "execution_count": 34,
   "id": "59d553c6",
   "metadata": {},
   "outputs": [
    {
     "data": {
      "text/plain": [
       "array([[  2,   3,   5,   5],\n",
       "       [  3,   5, 465,   4],\n",
       "       [  4,   4,  67,   9]])"
      ]
     },
     "execution_count": 34,
     "metadata": {},
     "output_type": "execute_result"
    }
   ],
   "source": [
    "np.array(l)\n"
   ]
  },
  {
   "cell_type": "code",
   "execution_count": 35,
   "id": "fb00671c",
   "metadata": {},
   "outputs": [],
   "source": [
    "arr1=np.array(l)"
   ]
  },
  {
   "cell_type": "code",
   "execution_count": 36,
   "id": "ec693e6a",
   "metadata": {},
   "outputs": [
    {
     "data": {
      "text/plain": [
       "2"
      ]
     },
     "execution_count": 36,
     "metadata": {},
     "output_type": "execute_result"
    }
   ],
   "source": [
    "arr1.ndim"
   ]
  },
  {
   "cell_type": "code",
   "execution_count": 37,
   "id": "952d91b2",
   "metadata": {},
   "outputs": [
    {
     "data": {
      "text/plain": [
       "12"
      ]
     },
     "execution_count": 37,
     "metadata": {},
     "output_type": "execute_result"
    }
   ],
   "source": [
    "arr1.size # gives size of elements"
   ]
  },
  {
   "cell_type": "code",
   "execution_count": 38,
   "id": "0dce7580",
   "metadata": {},
   "outputs": [
    {
     "data": {
      "text/plain": [
       "(3, 4)"
      ]
     },
     "execution_count": 38,
     "metadata": {},
     "output_type": "execute_result"
    }
   ],
   "source": [
    "arr1.shape # rows,column"
   ]
  },
  {
   "cell_type": "code",
   "execution_count": 39,
   "id": "8bfe7872",
   "metadata": {},
   "outputs": [],
   "source": [
    "arr2=np.array([[[2,3,5,5] , [3,5,465,4] , [4,4,67,9]]])"
   ]
  },
  {
   "cell_type": "code",
   "execution_count": 40,
   "id": "f6351fcf",
   "metadata": {},
   "outputs": [
    {
     "data": {
      "text/plain": [
       "array([[[  2,   3,   5,   5],\n",
       "        [  3,   5, 465,   4],\n",
       "        [  4,   4,  67,   9]]])"
      ]
     },
     "execution_count": 40,
     "metadata": {},
     "output_type": "execute_result"
    }
   ],
   "source": [
    "arr2"
   ]
  },
  {
   "cell_type": "code",
   "execution_count": 42,
   "id": "24e4fd53",
   "metadata": {},
   "outputs": [
    {
     "data": {
      "text/plain": [
       "(1, 3, 4)"
      ]
     },
     "execution_count": 42,
     "metadata": {},
     "output_type": "execute_result"
    }
   ],
   "source": [
    "arr2.shape"
   ]
  },
  {
   "cell_type": "code",
   "execution_count": null,
   "id": "9df4a527",
   "metadata": {},
   "outputs": [],
   "source": []
  },
  {
   "cell_type": "code",
   "execution_count": null,
   "id": "d66f0aa8",
   "metadata": {},
   "outputs": [],
   "source": []
  }
 ],
 "metadata": {
  "kernelspec": {
   "display_name": "Python 3 (ipykernel)",
   "language": "python",
   "name": "python3"
  },
  "language_info": {
   "codemirror_mode": {
    "name": "ipython",
    "version": 3
   },
   "file_extension": ".py",
   "mimetype": "text/x-python",
   "name": "python",
   "nbconvert_exporter": "python",
   "pygments_lexer": "ipython3",
   "version": "3.10.9"
  }
 },
 "nbformat": 4,
 "nbformat_minor": 5
}
