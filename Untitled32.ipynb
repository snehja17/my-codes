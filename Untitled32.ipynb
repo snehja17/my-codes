{
 "cells": [
  {
   "cell_type": "code",
   "execution_count": 10,
   "id": "345ba0f7",
   "metadata": {},
   "outputs": [
    {
     "name": "stdout",
     "output_type": "stream",
     "text": [
      "{'krsna', 'mayapur'}\n"
     ]
    }
   ],
   "source": [
    "string1=\"i love mayapur\"\n",
    "string2=\"i love krsna\"\n",
    "print(set(string1.split())^ set(string2.split()))"
   ]
  },
  {
   "cell_type": "code",
   "execution_count": 8,
   "id": "d9842dad",
   "metadata": {},
   "outputs": [
    {
     "data": {
      "text/plain": [
       "list"
      ]
     },
     "execution_count": 8,
     "metadata": {},
     "output_type": "execute_result"
    }
   ],
   "source": [
    "type(string1.split())"
   ]
  },
  {
   "cell_type": "code",
   "execution_count": null,
   "id": "85d36a6a",
   "metadata": {},
   "outputs": [],
   "source": []
  }
 ],
 "metadata": {
  "kernelspec": {
   "display_name": "Python 3 (ipykernel)",
   "language": "python",
   "name": "python3"
  },
  "language_info": {
   "codemirror_mode": {
    "name": "ipython",
    "version": 3
   },
   "file_extension": ".py",
   "mimetype": "text/x-python",
   "name": "python",
   "nbconvert_exporter": "python",
   "pygments_lexer": "ipython3",
   "version": "3.10.9"
  }
 },
 "nbformat": 4,
 "nbformat_minor": 5
}
